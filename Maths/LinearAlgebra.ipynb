{
  "nbformat": 4,
  "nbformat_minor": 0,
  "metadata": {
    "colab": {
      "provenance": [],
      "authorship_tag": "ABX9TyPKwFBh5vYzX5IR+Ip5cRuC",
      "include_colab_link": true
    },
    "kernelspec": {
      "name": "python3",
      "display_name": "Python 3"
    },
    "language_info": {
      "name": "python"
    }
  },
  "cells": [
    {
      "cell_type": "markdown",
      "metadata": {
        "id": "view-in-github",
        "colab_type": "text"
      },
      "source": [
        "<a href=\"https://colab.research.google.com/github/riya461/Learn_ML/blob/main/Maths/LinearAlgebra.ipynb\" target=\"_parent\"><img src=\"https://colab.research.google.com/assets/colab-badge.svg\" alt=\"Open In Colab\"/></a>"
      ]
    },
    {
      "cell_type": "markdown",
      "source": [
        "Vector - mathematical entity  represent physical quantity - magnitude and direction"
      ],
      "metadata": {
        "id": "3meeiCsx3-q9"
      }
    },
    {
      "cell_type": "markdown",
      "source": [
        "Matrices - represent vector transformation"
      ],
      "metadata": {
        "id": "dlCUGGau4OeR"
      }
    },
    {
      "cell_type": "markdown",
      "source": [
        "A = \\begin{bmatrix}\n",
        "1 & 2 \\\\\n",
        "3 & 4 \\\\\n",
        "5 & 6\n",
        "\\end{bmatrix}"
      ],
      "metadata": {
        "id": "OcxDhUCS4Ya6"
      }
    },
    {
      "cell_type": "code",
      "source": [
        "import numpy as np\n",
        "from scipy import linalg\n",
        "a = np.array([[1,2],[3,4],[5,6]])\n",
        "print(a)"
      ],
      "metadata": {
        "colab": {
          "base_uri": "https://localhost:8080/"
        },
        "id": "Jk4IPJEs4TEs",
        "outputId": "5c366b65-f320-461f-93e4-6a38d7c8a63d"
      },
      "execution_count": 9,
      "outputs": [
        {
          "output_type": "stream",
          "name": "stdout",
          "text": [
            "[[1 2]\n",
            " [3 4]\n",
            " [5 6]]\n"
          ]
        }
      ]
    },
    {
      "cell_type": "markdown",
      "source": [
        "**Linear system**\n",
        "\n",
        "\\begin{equation}  \n",
        "3x_1 + 2x_2 = 12\n",
        "\\end{equation}  \n",
        "\n",
        "\n",
        "\\begin{equation}  \n",
        "2x_1 - x_2 = 1\n",
        "\\end{equation}  \n",
        "\n",
        "\\begin{equation*}\n",
        "\\left( \\begin{bmatrix}\n",
        " 3 & 2 \\\\\n",
        "2 & -1\n",
        "\\end{bmatrix} \\right)\n",
        ".\n",
        "\\left( \\begin{bmatrix}\n",
        " x_1 \\\\\n",
        "x_2\n",
        "\\end{bmatrix} \\right)\n",
        "=\n",
        "\\left( \\begin{bmatrix}\n",
        " 12 \\\\\n",
        "1\n",
        "\\end{bmatrix} \\right)\n",
        "\\end{equation*}\n",
        "\n",
        "\\begin{equation}\n",
        "x = A^{-1} b\n",
        "\\end{equation}\n"
      ],
      "metadata": {
        "id": "FTTu1Tex49JE"
      }
    },
    {
      "cell_type": "code",
      "source": [
        "A = np.array(\n",
        "    [\n",
        "        [3,2],\n",
        "        [2,-1]\n",
        "    ]\n",
        ")\n",
        "b = np.array([12,1]).reshape((2,1))\n",
        "x = linalg.solve(A,b)\n",
        "print(x)"
      ],
      "metadata": {
        "colab": {
          "base_uri": "https://localhost:8080/"
        },
        "id": "RaEiddPo44oI",
        "outputId": "ab8b9eee-716d-477d-bf2a-a4051eb64ad3"
      },
      "execution_count": 17,
      "outputs": [
        {
          "output_type": "stream",
          "name": "stdout",
          "text": [
            "[[2.]\n",
            " [3.]]\n"
          ]
        }
      ]
    },
    {
      "cell_type": "code",
      "source": [
        "A = np.array(\n",
        "    [\n",
        "        [3,2],\n",
        "        [2,-1]\n",
        "    ]\n",
        ")\n",
        "A_inv = linalg.inv(A)\n",
        "x = np.dot(A_inv,b)\n",
        "print(x)"
      ],
      "metadata": {
        "colab": {
          "base_uri": "https://localhost:8080/"
        },
        "id": "HsSNv3uf-uxV",
        "outputId": "9cf53bff-d70c-4cea-bfb8-2863799bf8e4"
      },
      "execution_count": 18,
      "outputs": [
        {
          "output_type": "stream",
          "name": "stdout",
          "text": [
            "[[2.]\n",
            " [3.]]\n"
          ]
        }
      ]
    },
    {
      "cell_type": "code",
      "source": [
        "np.linalg.det(A)"
      ],
      "metadata": {
        "colab": {
          "base_uri": "https://localhost:8080/"
        },
        "id": "ktEwpYaq-4HJ",
        "outputId": "92d4251b-b7c7-452d-8d40-7a8407de9085"
      },
      "execution_count": 19,
      "outputs": [
        {
          "output_type": "execute_result",
          "data": {
            "text/plain": [
              "-6.999999999999999"
            ]
          },
          "metadata": {},
          "execution_count": 19
        }
      ]
    },
    {
      "cell_type": "markdown",
      "source": [
        "## Singular matrix\n",
        "\n",
        "- det(A) = 0\n",
        "- inverse does not exist"
      ],
      "metadata": {
        "id": "Gr6OKWVw_UGc"
      }
    },
    {
      "cell_type": "markdown",
      "source": [
        "Least Square\n",
        "\n",
        "Taking a matrix singular here\n",
        "Fitting a parabola to points (1,5) (2,13) (2,25) has no solution\n",
        "- least square minimises the squared difference between curve and data points\n",
        "\n",
        "\\begin{equation}  \n",
        "a_0 + a_1 + a_2 = 5\n",
        "\\end{equation}  \n",
        "\n",
        "\n",
        "\\begin{equation}  \n",
        "a_0 + 2 a_1 + 4a_2 = 13\n",
        "\\end{equation}  \n",
        "\n",
        "\n",
        "\\begin{equation}  \n",
        "a_0 + 2 a_1 + 4a_2 = 25\n",
        "\\end{equation}  \n"
      ],
      "metadata": {
        "id": "KxGKBvK6_h_r"
      }
    },
    {
      "cell_type": "code",
      "source": [
        "# not a precise fir - approximate points\n",
        "A = np.array([[1,1,1],[1,2,4],[1,2,4]])\n",
        "b = np.array([5,13,25]).reshape((3,1))\n",
        "try:\n",
        "  x = linalg.solve(A,b)\n",
        "  print(x)\n",
        "except np.linalg.LinAlgError as e:\n",
        "  print(e)\n"
      ],
      "metadata": {
        "colab": {
          "base_uri": "https://localhost:8080/"
        },
        "id": "XrVyrOV9_Tzc",
        "outputId": "fd30a871-da77-4f61-e952-a3400e615793"
      },
      "execution_count": 20,
      "outputs": [
        {
          "output_type": "stream",
          "name": "stdout",
          "text": [
            "Matrix is singular.\n"
          ]
        }
      ]
    },
    {
      "cell_type": "code",
      "source": [
        "p, *_ = linalg.lstsq(A,b)\n",
        "print(p)"
      ],
      "metadata": {
        "colab": {
          "base_uri": "https://localhost:8080/"
        },
        "id": "QXgaka3S-9zA",
        "outputId": "cfdd3d6c-e825-4327-8b63-92cdd3b56f64"
      },
      "execution_count": 23,
      "outputs": [
        {
          "output_type": "stream",
          "name": "stdout",
          "text": [
            "[[-0.42857143]\n",
            " [ 1.14285714]\n",
            " [ 4.28571429]]\n"
          ]
        }
      ]
    },
    {
      "cell_type": "code",
      "source": [
        "import matplotlib.pyplot as plt\n",
        "x = np.linspace(0,3,1000)\n",
        "y = p[0] + p[1]*x + p[2]*x**2\n",
        "plt.plot(x,y)\n",
        "plt.scatter(1,5)\n",
        "plt.scatter(2,13)\n",
        "plt.scatter(2,25)\n",
        "plt.show"
      ],
      "metadata": {
        "colab": {
          "base_uri": "https://localhost:8080/",
          "height": 599
        },
        "id": "ottVV1RHAS8J",
        "outputId": "a9eae1df-6f52-42bd-c74a-a8d5dd7d1e29"
      },
      "execution_count": 25,
      "outputs": [
        {
          "output_type": "execute_result",
          "data": {
            "text/plain": [
              "<function matplotlib.pyplot.show(close=None, block=None)>"
            ],
            "text/html": [
              "<div style=\"max-width:800px; border: 1px solid var(--colab-border-color);\"><style>\n",
              "      pre.function-repr-contents {\n",
              "        overflow-x: auto;\n",
              "        padding: 8px 12px;\n",
              "        max-height: 500px;\n",
              "      }\n",
              "\n",
              "      pre.function-repr-contents.function-repr-contents-collapsed {\n",
              "        cursor: pointer;\n",
              "        max-height: 100px;\n",
              "      }\n",
              "    </style>\n",
              "    <pre style=\"white-space: initial; background:\n",
              "         var(--colab-secondary-surface-color); padding: 8px 12px;\n",
              "         border-bottom: 1px solid var(--colab-border-color);\"><b>matplotlib.pyplot.show</b><br/>def show(*args, **kwargs)</pre><pre class=\"function-repr-contents function-repr-contents-collapsed\" style=\"\"><a class=\"filepath\" style=\"display:none\" href=\"#\">/usr/local/lib/python3.10/dist-packages/matplotlib/pyplot.py</a>Display all open figures.\n",
              "\n",
              "Parameters\n",
              "----------\n",
              "block : bool, optional\n",
              "    Whether to wait for all figures to be closed before returning.\n",
              "\n",
              "    If `True` block and run the GUI main loop until all figure windows\n",
              "    are closed.\n",
              "\n",
              "    If `False` ensure that all figure windows are displayed and return\n",
              "    immediately.  In this case, you are responsible for ensuring\n",
              "    that the event loop is running to have responsive figures.\n",
              "\n",
              "    Defaults to True in non-interactive mode and to False in interactive\n",
              "    mode (see `.pyplot.isinteractive`).\n",
              "\n",
              "See Also\n",
              "--------\n",
              "ion : Enable interactive mode, which shows / updates the figure after\n",
              "      every plotting command, so that calling ``show()`` is not necessary.\n",
              "ioff : Disable interactive mode.\n",
              "savefig : Save the figure to an image file instead of showing it on screen.\n",
              "\n",
              "Notes\n",
              "-----\n",
              "**Saving figures to file and showing a window at the same time**\n",
              "\n",
              "If you want an image file as well as a user interface window, use\n",
              "`.pyplot.savefig` before `.pyplot.show`. At the end of (a blocking)\n",
              "``show()`` the figure is closed and thus unregistered from pyplot. Calling\n",
              "`.pyplot.savefig` afterwards would save a new and thus empty figure. This\n",
              "limitation of command order does not apply if the show is non-blocking or\n",
              "if you keep a reference to the figure and use `.Figure.savefig`.\n",
              "\n",
              "**Auto-show in jupyter notebooks**\n",
              "\n",
              "The jupyter backends (activated via ``%matplotlib inline``,\n",
              "``%matplotlib notebook``, or ``%matplotlib widget``), call ``show()`` at\n",
              "the end of every cell by default. Thus, you usually don&#x27;t have to call it\n",
              "explicitly there.</pre>\n",
              "      <script>\n",
              "      if (google.colab.kernel.accessAllowed && google.colab.files && google.colab.files.view) {\n",
              "        for (const element of document.querySelectorAll('.filepath')) {\n",
              "          element.style.display = 'block'\n",
              "          element.onclick = (event) => {\n",
              "            event.preventDefault();\n",
              "            event.stopPropagation();\n",
              "            google.colab.files.view(element.textContent, 401);\n",
              "          };\n",
              "        }\n",
              "      }\n",
              "      for (const element of document.querySelectorAll('.function-repr-contents')) {\n",
              "        element.onclick = (event) => {\n",
              "          event.preventDefault();\n",
              "          event.stopPropagation();\n",
              "          element.classList.toggle('function-repr-contents-collapsed');\n",
              "        };\n",
              "      }\n",
              "      </script>\n",
              "      </div>"
            ]
          },
          "metadata": {},
          "execution_count": 25
        },
        {
          "output_type": "display_data",
          "data": {
            "text/plain": [
              "<Figure size 640x480 with 1 Axes>"
            ],
            "image/png": "[encoded data removed]"
          },
          "metadata": {}
        }
      ]
    },
    {
      "cell_type": "markdown",
      "source": [
        "Pseudo inverse\n",
        "- Moore Penrose pseudoinverse\n",
        "- best fit leading to least square solution"
      ],
      "metadata": {
        "id": "p2zPGXegBfSC"
      }
    },
    {
      "cell_type": "code",
      "source": [
        "A_pinv = linalg.pinv(A)\n",
        "x = np.dot(A_pinv,b)\n",
        "print(x)"
      ],
      "metadata": {
        "colab": {
          "base_uri": "https://localhost:8080/"
        },
        "id": "wOo9plXqBUWH",
        "outputId": "35ac23c9-c179-4bc7-fc36-c7cf65e0013d"
      },
      "execution_count": 26,
      "outputs": [
        {
          "output_type": "stream",
          "name": "stdout",
          "text": [
            "[[-0.42857143]\n",
            " [ 1.14285714]\n",
            " [ 4.28571429]]\n"
          ]
        }
      ]
    },
    {
      "cell_type": "markdown",
      "source": [
        "# Predicting car prices with least square"
      ],
      "metadata": {
        "id": "WicOHnNcBzec"
      }
    },
    {
      "cell_type": "code",
      "source": [
        "import pandas as pd\n",
        "cars = pd.read_csv('vehicles_cleaned.csv')"
      ],
      "metadata": {
        "id": "jC0DS83BBt5B"
      },
      "execution_count": 27,
      "outputs": []
    },
    {
      "cell_type": "code",
      "source": [
        "cars.columns"
      ],
      "metadata": {
        "colab": {
          "base_uri": "https://localhost:8080/"
        },
        "id": "MPIUL64iCfXA",
        "outputId": "fdc830e4-7bc1-4d2a-cba8-d395b3377a67"
      },
      "execution_count": 28,
      "outputs": [
        {
          "output_type": "execute_result",
          "data": {
            "text/plain": [
              "Index(['price', 'year', 'condition', 'cylinders', 'fuel', 'odometer',\n",
              "       'transmission', 'size', 'type'],\n",
              "      dtype='object')"
            ]
          },
          "metadata": {},
          "execution_count": 28
        }
      ]
    },
    {
      "cell_type": "code",
      "source": [
        "cars.iloc[0]"
      ],
      "metadata": {
        "colab": {
          "base_uri": "https://localhost:8080/"
        },
        "id": "YvWLs-TkChss",
        "outputId": "66b5f9ab-0488-4212-907a-39d778b32ab2"
      },
      "execution_count": 29,
      "outputs": [
        {
          "output_type": "execute_result",
          "data": {
            "text/plain": [
              "price                  7000\n",
              "year                   2011\n",
              "condition              good\n",
              "cylinders       4 cylinders\n",
              "fuel                    gas\n",
              "odometer              76202\n",
              "transmission      automatic\n",
              "size                compact\n",
              "type                  sedan\n",
              "Name: 0, dtype: object"
            ]
          },
          "metadata": {},
          "execution_count": 29
        }
      ]
    },
    {
      "cell_type": "code",
      "source": [
        "cars_dummy = pd.get_dummies(\n",
        "    cars,\n",
        "    columns=[\n",
        "        'condition',\n",
        "        'cylinders',\n",
        "        'fuel',\n",
        "        'transmission',\n",
        "        'size',\n",
        "        'type',\n",
        "    ],\n",
        "    drop_first=True\n",
        ")"
      ],
      "metadata": {
        "id": "bTkxVZ-HCkEc"
      },
      "execution_count": 31,
      "outputs": []
    },
    {
      "cell_type": "code",
      "source": [
        "cars_dummy['intercept'] = 1"
      ],
      "metadata": {
        "id": "FqwUfOAmDBEw"
      },
      "execution_count": 32,
      "outputs": []
    },
    {
      "cell_type": "code",
      "source": [
        "\n",
        "A = cars_dummy.drop(columns=['price']).to_numpy()\n",
        "b = cars_dummy.loc[:, 'price'].to_numpy()\n",
        "A = np.asarray(A, dtype=float)"
      ],
      "metadata": {
        "id": "f75U5uJrDJu8"
      },
      "execution_count": 49,
      "outputs": []
    },
    {
      "cell_type": "code",
      "source": [
        "p  = np.dot(linalg.pinv(A),b)\n",
        "print(p)"
      ],
      "metadata": {
        "colab": {
          "base_uri": "https://localhost:8080/"
        },
        "id": "i0KzJeykDk44",
        "outputId": "fce039a8-5bf8-4e42-ee36-a89d8ecfd2c1"
      },
      "execution_count": 50,
      "outputs": [
        {
          "output_type": "stream",
          "name": "stdout",
          "text": [
            "[ 8.47362988e+02 -3.53913729e-02 -3.47144752e+03 -1.66981155e+03\n",
            " -1.80240398e+02 -7.15885691e+03 -6.36540791e+03  3.76583261e+03\n",
            " -1.84837210e+03  1.31935783e+03  6.60484388e+02  6.38913933e+02\n",
            "  1.54163679e+02 -1.76423109e+03 -1.99439766e+03  6.97365788e+02\n",
            " -1.68998811e+06]\n"
          ]
        }
      ]
    },
    {
      "cell_type": "code",
      "source": [
        "car = np.array(\n",
        "   [2010, 50000, 0, 1, 0, 0, 0, 0, 1, 0, 0, 0, 0, 1, 0, 0, 1]\n",
        " )\n",
        "# a 2010 4-cylinder hatchback, with automatic transmission, gas fuel, and 50,000 miles, in good condition"
      ],
      "metadata": {
        "id": "jraUivw4Dn0s"
      },
      "execution_count": 51,
      "outputs": []
    },
    {
      "cell_type": "code",
      "source": [
        "prediction = np.dot(p,car)\n",
        "print(prediction)"
      ],
      "metadata": {
        "colab": {
          "base_uri": "https://localhost:8080/"
        },
        "id": "ZQUsvckcFa0F",
        "outputId": "4d7a69a9-fd77-4d5d-b2f1-239a5ef416ea"
      },
      "execution_count": 52,
      "outputs": [
        {
          "output_type": "stream",
          "name": "stdout",
          "text": [
            "6159.510724280728\n"
          ]
        }
      ]
    },
    {
      "cell_type": "code",
      "source": [],
      "metadata": {
        "id": "F-J4ZYaxFhZS"
      },
      "execution_count": null,
      "outputs": []
    }
  ]
}